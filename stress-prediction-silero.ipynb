{
 "cells": [
  {
   "cell_type": "code",
   "execution_count": 1,
   "id": "309a837a",
   "metadata": {
    "_cell_guid": "b1076dfc-b9ad-4769-8c92-a6c4dae69d19",
    "_uuid": "8f2839f25d086af736a60e9eeb907d3b93b6e0e5",
    "execution": {
     "iopub.execute_input": "2025-02-18T15:05:12.210645Z",
     "iopub.status.busy": "2025-02-18T15:05:12.210253Z",
     "iopub.status.idle": "2025-02-18T15:12:01.968970Z",
     "shell.execute_reply": "2025-02-18T15:12:01.967859Z"
    },
    "papermill": {
     "duration": 409.764938,
     "end_time": "2025-02-18T15:12:01.970774",
     "exception": false,
     "start_time": "2025-02-18T15:05:12.205836",
     "status": "completed"
    },
    "tags": []
   },
   "outputs": [
    {
     "name": "stderr",
     "output_type": "stream",
     "text": [
      "/usr/local/lib/python3.10/dist-packages/torch/optim/lr_scheduler.py:62: UserWarning: The verbose parameter is deprecated. Please use get_last_lr() to access the learning rate.\n",
      "  warnings.warn(\n"
     ]
    },
    {
     "name": "stdout",
     "output_type": "stream",
     "text": [
      "Epoch 1/20 - Train Loss: 0.8680 - Train Acc: 0.6175 - Val Loss: 0.7157 - Val Acc: 0.6980\n",
      "Saved best model!\n",
      "Epoch 2/20 - Train Loss: 0.6726 - Train Acc: 0.7242 - Val Loss: 0.6166 - Val Acc: 0.7513\n",
      "Saved best model!\n",
      "Epoch 3/20 - Train Loss: 0.5884 - Train Acc: 0.7644 - Val Loss: 0.5584 - Val Acc: 0.7755\n",
      "Saved best model!\n",
      "Epoch 4/20 - Train Loss: 0.5367 - Train Acc: 0.7871 - Val Loss: 0.5473 - Val Acc: 0.7816\n",
      "Saved best model!\n",
      "Epoch 5/20 - Train Loss: 0.4909 - Train Acc: 0.8071 - Val Loss: 0.5104 - Val Acc: 0.7966\n",
      "Saved best model!\n",
      "Epoch 6/20 - Train Loss: 0.4617 - Train Acc: 0.8189 - Val Loss: 0.4771 - Val Acc: 0.8104\n",
      "Saved best model!\n",
      "Epoch 7/20 - Train Loss: 0.4254 - Train Acc: 0.8320 - Val Loss: 0.4588 - Val Acc: 0.8200\n",
      "Saved best model!\n",
      "Epoch 8/20 - Train Loss: 0.3924 - Train Acc: 0.8464 - Val Loss: 0.4449 - Val Acc: 0.8257\n",
      "Saved best model!\n",
      "Epoch 9/20 - Train Loss: 0.3675 - Train Acc: 0.8561 - Val Loss: 0.4355 - Val Acc: 0.8298\n",
      "Saved best model!\n",
      "Epoch 10/20 - Train Loss: 0.3418 - Train Acc: 0.8671 - Val Loss: 0.4303 - Val Acc: 0.8346\n",
      "Saved best model!\n",
      "Epoch 11/20 - Train Loss: 0.3190 - Train Acc: 0.8757 - Val Loss: 0.4182 - Val Acc: 0.8407\n",
      "Saved best model!\n",
      "Epoch 12/20 - Train Loss: 0.2994 - Train Acc: 0.8841 - Val Loss: 0.4318 - Val Acc: 0.8404\n",
      "Epoch 13/20 - Train Loss: 0.2800 - Train Acc: 0.8910 - Val Loss: 0.4017 - Val Acc: 0.8505\n",
      "Saved best model!\n",
      "Epoch 14/20 - Train Loss: 0.2636 - Train Acc: 0.8987 - Val Loss: 0.4082 - Val Acc: 0.8524\n",
      "Saved best model!\n",
      "Epoch 15/20 - Train Loss: 0.2435 - Train Acc: 0.9067 - Val Loss: 0.4299 - Val Acc: 0.8452\n",
      "Epoch 16/20 - Train Loss: 0.2485 - Train Acc: 0.9036 - Val Loss: 0.4178 - Val Acc: 0.8550\n",
      "Saved best model!\n",
      "Epoch 17/20 - Train Loss: 0.2176 - Train Acc: 0.9167 - Val Loss: 0.4138 - Val Acc: 0.8545\n",
      "Epoch 18/20 - Train Loss: 0.2085 - Train Acc: 0.9201 - Val Loss: 0.4186 - Val Acc: 0.8525\n",
      "Epoch 19/20 - Train Loss: 0.1989 - Train Acc: 0.9240 - Val Loss: 0.4307 - Val Acc: 0.8575\n",
      "Saved best model!\n",
      "Epoch 20/20 - Train Loss: 0.1897 - Train Acc: 0.9263 - Val Loss: 0.4399 - Val Acc: 0.8536\n"
     ]
    }
   ],
   "source": [
    "import pandas as pd\n",
    "import numpy as np\n",
    "import torch\n",
    "import torch.nn as nn\n",
    "import torch.optim as optim\n",
    "from torch.utils.data import Dataset, DataLoader\n",
    "from sklearn.model_selection import train_test_split\n",
    "import random\n",
    "\n",
    "#------------------------------------------------------\n",
    "# 1. set seed\n",
    "#------------------------------------------------------------------\n",
    "def set_seed(seed):\n",
    "    random.seed(seed)\n",
    "    np.random.seed(seed)\n",
    "    torch.manual_seed(seed)\n",
    "    if torch.cuda.is_available():\n",
    "        torch.cuda.manual_seed_all(seed)\n",
    "\n",
    "set_seed(42)\n",
    "\n",
    "# variables\n",
    "TRAIN_PATH = r\"../input/silero-stress-predictor/train.csv\"\n",
    "TEST_PATH = r\"../input/silero-stress-predictor/test.csv\"\n",
    "\n",
    "df = pd.read_csv(TRAIN_PATH)\n",
    "\n",
    "# build character dictionary\n",
    "vocab = set()\n",
    "for word in df['word']:\n",
    "    vocab.update(list(word))\n",
    "vocab = sorted(list(vocab))\n",
    "# index: 0 – for PAD\n",
    "char2idx = {char: idx+1 for idx, char in enumerate(vocab)}\n",
    "vocab_size = len(char2idx) + 1  # +1 for PAD\n",
    "max_len = df['word'].apply(len).max()\n",
    "\n",
    "#------------------------------------------------------------------\n",
    "# 2. Create custom dataset\n",
    "#------------------------------------------------------------------\n",
    "class StressDataset(Dataset):\n",
    "    def __init__(self, dataframe, char2idx, max_len):\n",
    "        self.words = dataframe['word'].tolist()\n",
    "        self.labels = dataframe['stress'].tolist()\n",
    "        self.char2idx = char2idx\n",
    "        self.max_len = max_len\n",
    "\n",
    "    def __len__(self):\n",
    "        return len(self.words)\n",
    "\n",
    "    def __getitem__(self, idx):\n",
    "        word = self.words[idx]\n",
    "        label = self.labels[idx] - 1  # change into 0-index for CrossEntropyLoss\n",
    "        indices = [self.char2idx.get(ch, 0) for ch in word]\n",
    "        # padding to max_len\n",
    "        if len(indices) < self.max_len:\n",
    "            indices = indices + [0] * (self.max_len - len(indices))\n",
    "        else:\n",
    "            indices = indices[:self.max_len]\n",
    "        return torch.tensor(indices, dtype=torch.long), torch.tensor(label, dtype=torch.long)\n",
    "\n",
    "train_df, val_df = train_test_split(df, test_size=0.32, random_state=42)\n",
    "train_dataset = StressDataset(train_df, char2idx, max_len)\n",
    "val_dataset = StressDataset(val_df, char2idx, max_len)\n",
    "\n",
    "batch_size = 32\n",
    "train_loader = DataLoader(train_dataset, batch_size=batch_size, shuffle=True)\n",
    "val_loader = DataLoader(val_dataset, batch_size=batch_size, shuffle=False)\n",
    "\n",
    "#------------------------------------------------------------------\n",
    "# 3. Определим улучшенную модель CNN с Dropout и BatchNorm\n",
    "#------------------------------------------------------------------\n",
    "\n",
    "class CRNNModel(nn.Module):\n",
    "    def __init__(self, vocab_size, embedding_dim, num_classes, max_len, lstm_hidden, dropout_p=0.4):\n",
    "        super(CRNNModel, self).__init__()\n",
    "        self.embedding = nn.Embedding(vocab_size, embedding_dim, padding_idx=0)\n",
    "        # CNN блок\n",
    "        self.conv1 = nn.Conv1d(in_channels=embedding_dim, out_channels=64, kernel_size=3, padding=1)\n",
    "        self.bn1 = nn.BatchNorm1d(64)\n",
    "        self.leaky_relu = nn.LeakyReLU(0.01)\n",
    "        self.pool = nn.MaxPool1d(kernel_size=2)  # уменьшает длину последовательности в 2 раза\n",
    "        self.dropout = nn.Dropout(dropout_p)\n",
    "\n",
    "        # После свёрточного блока последовательность имеет длину max_len//2\n",
    "        # Преобразуем её для LSTM: (batch, max_len//2, 64)\n",
    "        # Bidirectional LSTM\n",
    "        self.lstm = nn.LSTM(input_size=64, hidden_size=lstm_hidden, num_layers=1,\n",
    "                            batch_first=True, bidirectional=True)\n",
    "        # Финальный классификатор, на вход 2*lstm_hidden (конкатенация forward и backward)\n",
    "        self.fc = nn.Linear(2 * lstm_hidden, num_classes)\n",
    "\n",
    "    def forward(self, x):\n",
    "        # x: (batch, max_len)\n",
    "        x = self.embedding(x)               # -> (batch, max_len, embedding_dim)\n",
    "        x = x.permute(0, 2, 1)              # -> (batch, embedding_dim, max_len)\n",
    "        x = self.conv1(x)                   # -> (batch, 64, max_len)\n",
    "        x = self.bn1(x)\n",
    "        x = self.leaky_relu(x)\n",
    "        x = self.pool(x)                    # -> (batch, 64, max_len//2)\n",
    "\n",
    "        x = x.permute(0, 2, 1)              # -> (batch, max_len//2, 64)\n",
    "        # LSTM\n",
    "        lstm_out, (h_n, c_n) = self.lstm(x)  # lstm_out: (batch, max_len//2, 2*lstm_hidden)\n",
    "        # Используем последние скрытые состояния обоих направлений\n",
    "        # h_n имеет форму (num_layers * num_directions, batch, lstm_hidden)\n",
    "        h_forward = h_n[-2, :, :]  # forward, размер: (batch, lstm_hidden)\n",
    "        h_backward = h_n[-1, :, :] # backward, размер: (batch, lstm_hidden)\n",
    "        h = torch.cat((h_forward, h_backward), dim=1)  # -> (batch, 2*lstm_hidden)\n",
    "\n",
    "        h = self.dropout(h)\n",
    "        logits = self.fc(h)               # -> (batch, num_classes)\n",
    "        return logits\n",
    "\n",
    "embedding_dim = 32\n",
    "num_classes = 6\n",
    "lstm_hidden = 64\n",
    "model = CRNNModel(vocab_size, embedding_dim, num_classes, max_len, lstm_hidden)\n",
    "\n",
    "device = torch.device('cuda' if torch.cuda.is_available() else 'cpu')\n",
    "model.to(device)\n",
    "\n",
    "criterion = nn.CrossEntropyLoss()\n",
    "optimizer = optim.Adam(model.parameters(), lr=0.001)\n",
    "#------------------------------------------------------------------\n",
    "# 4. Scheduler: reducation lr if val fails\n",
    "#------------------------------------------------------------------\n",
    "scheduler = optim.lr_scheduler.ReduceLROnPlateau(optimizer, mode='max', factor=0.5, patience=2, verbose=True)\n",
    "\n",
    "# train func\n",
    "def train_epoch(model, loader, optimizer, criterion, device):\n",
    "    model.train()\n",
    "    running_loss, correct, total = 0.0, 0, 0\n",
    "    for inputs, labels in loader:\n",
    "        inputs, labels = inputs.to(device), labels.to(device)\n",
    "        optimizer.zero_grad()\n",
    "        outputs = model(inputs)\n",
    "        loss = criterion(outputs, labels)\n",
    "        loss.backward()\n",
    "        optimizer.step()\n",
    "\n",
    "        running_loss += loss.item() * inputs.size(0)\n",
    "        _, predicted = torch.max(outputs, 1)\n",
    "        total += labels.size(0)\n",
    "        correct += (predicted == labels).sum().item()\n",
    "    return running_loss / total, correct / total\n",
    "\n",
    "#val func\n",
    "def validate_epoch(model, loader, criterion, device):\n",
    "    model.eval()\n",
    "    running_loss, correct, total = 0.0, 0, 0\n",
    "    with torch.no_grad():\n",
    "        for inputs, labels in loader:\n",
    "            inputs, labels = inputs.to(device), labels.to(device)\n",
    "            outputs = model(inputs)\n",
    "            loss = criterion(outputs, labels)\n",
    "            running_loss += loss.item() * inputs.size(0)\n",
    "            _, predicted = torch.max(outputs, 1)\n",
    "            total += labels.size(0)\n",
    "            correct += (predicted == labels).sum().item()\n",
    "    return running_loss / total, correct / total\n",
    "#------------------------------------------------------------------\n",
    "# 5. Основной цикл обучения с сохранением лучшей модели\n",
    "#------------------------------------------------------------------\n",
    "num_epochs = 20\n",
    "best_val_acc = 0.0\n",
    "\n",
    "history = {'train_loss': [], 'train_acc': [], 'val_loss': [], 'val_acc': []}\n",
    "\n",
    "for epoch in range(num_epochs):\n",
    "    train_loss, train_acc = train_epoch(model, train_loader, optimizer, criterion, device)\n",
    "    val_loss, val_acc = validate_epoch(model, val_loader, criterion, device)\n",
    "    scheduler.step(val_acc)\n",
    "\n",
    "    # Сохраняем метрики в history\n",
    "    history['train_loss'].append(train_loss)\n",
    "    history['train_acc'].append(train_acc)\n",
    "    history['val_loss'].append(val_loss)\n",
    "    history['val_acc'].append(val_acc)\n",
    "\n",
    "    print(f\"Epoch {epoch+1}/{num_epochs} - \"\n",
    "          f\"Train Loss: {train_loss:.4f} - Train Acc: {train_acc:.4f} - \"\n",
    "          f\"Val Loss: {val_loss:.4f} - Val Acc: {val_acc:.4f}\")\n",
    "\n",
    "    if val_acc > best_val_acc:\n",
    "        best_val_acc = val_acc\n",
    "        torch.save(model.state_dict(), 'best_model.pt')\n",
    "        print(\"Saved best model!\")"
   ]
  },
  {
   "cell_type": "markdown",
   "id": "31ab2bf0",
   "metadata": {
    "papermill": {
     "duration": 0.004175,
     "end_time": "2025-02-18T15:12:01.980017",
     "exception": false,
     "start_time": "2025-02-18T15:12:01.975842",
     "status": "completed"
    },
    "tags": []
   },
   "source": [
    "# Графики потерь и точности на протяжении 20 эпох"
   ]
  },
  {
   "cell_type": "code",
   "execution_count": 2,
   "id": "068ad91a",
   "metadata": {
    "execution": {
     "iopub.execute_input": "2025-02-18T15:12:01.988971Z",
     "iopub.status.busy": "2025-02-18T15:12:01.988446Z",
     "iopub.status.idle": "2025-02-18T15:12:02.595745Z",
     "shell.execute_reply": "2025-02-18T15:12:02.594608Z"
    },
    "papermill": {
     "duration": 0.614004,
     "end_time": "2025-02-18T15:12:02.597920",
     "exception": false,
     "start_time": "2025-02-18T15:12:01.983916",
     "status": "completed"
    },
    "tags": []
   },
   "outputs": [
    {
     "data": {
      "image/png": "[encoded data removed]",
      "text/plain": [
       "<Figure size 1200x500 with 2 Axes>"
      ]
     },
     "metadata": {},
     "output_type": "display_data"
    }
   ],
   "source": [
    "import matplotlib.pyplot as plt\n",
    "\n",
    "epochs = range(1, num_epochs+1)\n",
    "\n",
    "plt.figure(figsize=(12, 5))\n",
    "\n",
    "# График потерь\n",
    "plt.subplot(1, 2, 1)\n",
    "plt.plot(epochs, history['train_loss'], 'bo-', label='Train Loss')\n",
    "plt.plot(epochs, history['val_loss'], 'ro-', label='Val Loss')\n",
    "plt.title('Loss per Epoch')\n",
    "plt.xlabel('Epoch')\n",
    "plt.ylabel('Loss')\n",
    "plt.legend()\n",
    "\n",
    "# График точностей\n",
    "plt.subplot(1, 2, 2)\n",
    "plt.plot(epochs, history['train_acc'], 'bo-', label='Train Accuracy')\n",
    "plt.plot(epochs, history['val_acc'], 'ro-', label='Val Accuracy')\n",
    "plt.title('Accuracy per Epoch')\n",
    "plt.xlabel('Epoch')\n",
    "plt.ylabel('Accuracy')\n",
    "plt.legend()\n",
    "\n",
    "plt.tight_layout()\n",
    "plt.show()\n"
   ]
  },
  {
   "cell_type": "markdown",
   "id": "cfad655d",
   "metadata": {
    "papermill": {
     "duration": 0.00509,
     "end_time": "2025-02-18T15:12:02.608348",
     "exception": false,
     "start_time": "2025-02-18T15:12:02.603258",
     "status": "completed"
    },
    "tags": []
   },
   "source": [
    "# Предсказания модели"
   ]
  },
  {
   "cell_type": "code",
   "execution_count": 3,
   "id": "9d8c8772",
   "metadata": {
    "execution": {
     "iopub.execute_input": "2025-02-18T15:12:02.620109Z",
     "iopub.status.busy": "2025-02-18T15:12:02.619707Z",
     "iopub.status.idle": "2025-02-18T15:12:02.631564Z",
     "shell.execute_reply": "2025-02-18T15:12:02.630386Z"
    },
    "papermill": {
     "duration": 0.019632,
     "end_time": "2025-02-18T15:12:02.633210",
     "exception": false,
     "start_time": "2025-02-18T15:12:02.613578",
     "status": "completed"
    },
    "tags": []
   },
   "outputs": [
    {
     "name": "stderr",
     "output_type": "stream",
     "text": [
      "<ipython-input-3-66f6184886f3>:4: FutureWarning: You are using `torch.load` with `weights_only=False` (the current default value), which uses the default pickle module implicitly. It is possible to construct malicious pickle data which will execute arbitrary code during unpickling (See https://github.com/pytorch/pytorch/blob/main/SECURITY.md#untrusted-models for more details). In a future release, the default value for `weights_only` will be flipped to `True`. This limits the functions that could be executed during unpickling. Arbitrary objects will no longer be allowed to be loaded via this mode unless they are explicitly allowlisted by the user via `torch.serialization.add_safe_globals`. We recommend you start setting `weights_only=True` for any use case where you don't have full control of the loaded file. Please open an issue on GitHub for any issues related to this experimental feature.\n",
      "  model.load_state_dict(torch.load('best_model.pt', map_location=device))\n"
     ]
    },
    {
     "data": {
      "text/plain": [
       "CRNNModel(\n",
       "  (embedding): Embedding(34, 32, padding_idx=0)\n",
       "  (conv1): Conv1d(32, 64, kernel_size=(3,), stride=(1,), padding=(1,))\n",
       "  (bn1): BatchNorm1d(64, eps=1e-05, momentum=0.1, affine=True, track_running_stats=True)\n",
       "  (leaky_relu): LeakyReLU(negative_slope=0.01)\n",
       "  (pool): MaxPool1d(kernel_size=2, stride=2, padding=0, dilation=1, ceil_mode=False)\n",
       "  (dropout): Dropout(p=0.4, inplace=False)\n",
       "  (lstm): LSTM(64, 64, batch_first=True, bidirectional=True)\n",
       "  (fc): Linear(in_features=128, out_features=6, bias=True)\n",
       ")"
      ]
     },
     "execution_count": 3,
     "metadata": {},
     "output_type": "execute_result"
    }
   ],
   "source": [
    "import pandas as pd\n",
    "\n",
    "device = torch.device('cuda' if torch.cuda.is_available() else 'cpu')\n",
    "model.load_state_dict(torch.load('best_model.pt', map_location=device))\n",
    "model.to(device)\n",
    "model.eval()"
   ]
  },
  {
   "cell_type": "code",
   "execution_count": 4,
   "id": "1b2d5ceb",
   "metadata": {
    "execution": {
     "iopub.execute_input": "2025-02-18T15:12:02.644952Z",
     "iopub.status.busy": "2025-02-18T15:12:02.644518Z",
     "iopub.status.idle": "2025-02-18T15:12:34.106696Z",
     "shell.execute_reply": "2025-02-18T15:12:34.105441Z"
    },
    "papermill": {
     "duration": 31.474467,
     "end_time": "2025-02-18T15:12:34.112926",
     "exception": false,
     "start_time": "2025-02-18T15:12:02.638459",
     "status": "completed"
    },
    "tags": []
   },
   "outputs": [
    {
     "name": "stdout",
     "output_type": "stream",
     "text": [
      "             word  num_syllables        lemma  stress\n",
      "id                                                   \n",
      "0       эпилепсия              5    эпилепсия       3\n",
      "1     относящейся              5   относиться       3\n",
      "2   размышлениями              6  размышление       3\n",
      "3          модемы              3        модем       2\n",
      "4           солнц              1       солнце       1\n"
     ]
    }
   ],
   "source": [
    "def predict_word(word, model, char2idx, max_len, device='cpu'):\n",
    "    # Преобразуем строку в последовательность индексов\n",
    "    indices = [char2idx.get(ch, 0) for ch in word]\n",
    "    # Паддинг или обрезка до max_len\n",
    "    if len(indices) < max_len:\n",
    "        indices += [0] * (max_len - len(indices))\n",
    "    else:\n",
    "        indices = indices[:max_len]\n",
    "    \n",
    "    x = torch.tensor([indices], dtype=torch.long, device=device)\n",
    "\n",
    "    with torch.no_grad():\n",
    "        output = model(x)\n",
    "    # Выбираем класс с максимальной вероятностью\n",
    "    # Добавляем +1, т.к. при обучении сделали изменение индексов от 0 до 5\n",
    "    pred = torch.argmax(output, dim=1).item() + 1  \n",
    "    return pred\n",
    "\n",
    "test_df = pd.read_csv('../input/silero-stress-predictor/test.csv', index_col=0)\n",
    "\n",
    "# Получаем предсказания для каждого слова\n",
    "Y_test = [predict_word(word, model, char2idx, max_len, device) for word in test_df['word']]\n",
    "\n",
    "eval_df = pd.DataFrame({'stress': Y_test}, index=test_df.index)\n",
    "eval_df.to_csv('submission.csv')\n",
    "\n",
    "# Объединение с тестовыми данными\n",
    "result_df = pd.concat([test_df, eval_df], axis=1)\n",
    "print(result_df.head())"
   ]
  }
 ],
 "metadata": {
  "kaggle": {
   "accelerator": "none",
   "dataSources": [
    {
     "databundleVersionId": 4589860,
     "sourceId": 42349,
     "sourceType": "competition"
    }
   ],
   "dockerImageVersionId": 30886,
   "isGpuEnabled": false,
   "isInternetEnabled": false,
   "language": "python",
   "sourceType": "notebook"
  },
  "kernelspec": {
   "display_name": "Python 3",
   "language": "python",
   "name": "python3"
  },
  "language_info": {
   "codemirror_mode": {
    "name": "ipython",
    "version": 3
   },
   "file_extension": ".py",
   "mimetype": "text/x-python",
   "name": "python",
   "nbconvert_exporter": "python",
   "pygments_lexer": "ipython3",
   "version": "3.10.12"
  },
  "papermill": {
   "default_parameters": {},
   "duration": 446.727633,
   "end_time": "2025-02-18T15:12:36.145581",
   "environment_variables": {},
   "exception": null,
   "input_path": "__notebook__.ipynb",
   "output_path": "__notebook__.ipynb",
   "parameters": {},
   "start_time": "2025-02-18T15:05:09.417948",
   "version": "2.6.0"
  }
 },
 "nbformat": 4,
 "nbformat_minor": 5
}
